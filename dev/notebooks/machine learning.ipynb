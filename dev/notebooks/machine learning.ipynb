{
  "cells": [
    {
      "cell_type": "markdown",
      "metadata": {
        "id": "G0W08xH04Nzv"
      },
      "source": [
        "# Title"
      ]
    },
    {
      "cell_type": "markdown",
      "metadata": {
        "id": "jLTuR-lo4Nzx"
      },
      "source": [
        "# Description"
      ]
    },
    {
      "cell_type": "code",
      "execution_count": 1,
      "metadata": {
        "colab": {
          "base_uri": "https://localhost:8080/"
        },
        "id": "tjMy6CatwySH",
        "outputId": "029b62dd-a769-4e2d-df16-29ce62025988"
      },
      "outputs": [],
      "source": [
        "# !pip install pmdarima\n",
        "# !pip install category_encoders"
      ]
    },
    {
      "cell_type": "markdown",
      "metadata": {
        "id": "h76n_a9e4Nzy"
      },
      "source": [
        "# Importation"
      ]
    },
    {
      "cell_type": "code",
      "execution_count": 2,
      "metadata": {
        "id": "h9KtdvmP4Nzz"
      },
      "outputs": [],
      "source": [
        "import pandas as pd\n",
        "import numpy as np\n",
        "import matplotlib.pyplot as plt\n",
        "import seaborn as sns\n",
        "import plotly.express as px\n",
        "import plotly.graph_objects as go\n",
        "\n",
        "import matplotlib.dates as mdates\n",
        "%matplotlib inline\n",
        "from itertools import product\n",
        "\n",
        "from statsmodels.tsa.stattools import adfuller\n",
        "from statsmodels.tsa.stattools import kpss\n",
        "from statsmodels.graphics.tsaplots import plot_acf, plot_pacf\n",
        "\n",
        "from sklearn.impute import SimpleImputer\n",
        "from sklearn.preprocessing import OneHotEncoder, LabelEncoder\n",
        "from category_encoders.binary import BinaryEncoder\n",
        "from sklearn.preprocessing import StandardScaler\n",
        "\n",
        "from sklearn.metrics import mean_squared_error\n",
        "from sklearn.metrics import mean_squared_log_error\n",
        "\n",
        "from statsmodels.tsa.seasonal import seasonal_decompose\n",
        "from statsmodels.tsa.api import AutoReg\n",
        "from pmdarima import auto_arima\n",
        "from statsmodels.tsa.arima.model import ARIMA\n",
        "from statsmodels.tsa.statespace.sarimax import SARIMAX\n",
        "\n",
        "import warnings\n",
        "import os\n",
        "warnings.filterwarnings(\"ignore\")"
      ]
    },
    {
      "cell_type": "markdown",
      "metadata": {
        "id": "3kfbniiz4Nz0"
      },
      "source": [
        "# Data Loading"
      ]
    },
    {
      "cell_type": "code",
      "execution_count": 3,
      "metadata": {
        "id": "MhVvJ2liwCwN"
      },
      "outputs": [],
      "source": [
        "train = pd.read_csv('../../assets/data/Train.csv')\n",
        "\n",
        "test = pd.read_csv('../../assets/data/Test.csv')\n",
        "\n",
        "\n",
        "sample = pd.read_csv('../../assets/data/SampleSubmission.csv').set_index('ID')\n",
        "weather = pd.read_csv('../../assets/data/Weather.csv')"
      ]
    },
    {
      "cell_type": "markdown",
      "metadata": {
        "id": "Mz9VjJVx4Nz3"
      },
      "source": [
        "# Dataset overview"
      ]
    },
    {
      "cell_type": "code",
      "execution_count": 4,
      "metadata": {},
      "outputs": [],
      "source": [
        "# # train['date'] = pd.to_datetime(train['Timestamp']).dt.date\n",
        "# train['date'] = train['Timestamp']\n",
        "# # train.set_index('date', inplace= True)\n",
        "\n",
        "# # test['date'] = pd.to_datetime(test['Timestamp']).dt.date\n",
        "# test['date'] = test['Timestamp']\n",
        "# # test.set_index('date', inplace= True)\n",
        "# test.drop(columns=['Timestamp', 'ID'], inplace = True, axis=1)\n",
        "\n",
        "# # weather['date'] = pd.to_datetime(weather['date']).dt.date\n",
        "# weather['date'] = weather['date']\n",
        "# # weather.set_index('date', inplace= True)"
      ]
    },
    {
      "cell_type": "code",
      "execution_count": 5,
      "metadata": {},
      "outputs": [],
      "source": [
        "def split_datetime_column(df, date):\n",
        "    df['time'] = df[date].str[10:]\n",
        "    df['date'] = df[date].str[:10]\n",
        "    df.drop(columns=['Timestamp', 'ID'], inplace = True, axis=1)\n",
        "    return df\n",
        "train = split_datetime_column(train, 'Timestamp')\n",
        "test = split_datetime_column(test, 'Timestamp')"
      ]
    },
    {
      "cell_type": "code",
      "execution_count": 6,
      "metadata": {},
      "outputs": [],
      "source": [
        "def time_to_secs(df):\n",
        "  # Extract hours, minutes, and seconds using vectorized operations\n",
        "  time_parts = df['time'].str[1:-1].str.split(':', expand=True).astype(int)\n",
        "  hours, minutes, seconds = time_parts[0], time_parts[1], time_parts[2]\n",
        "  df.drop(columns=['time'], inplace = True, axis=1)\n",
        "\n",
        "  # Convert time to total seconds since midnight\n",
        "  df['total_secs'] = hours * 3600 + minutes * 60 + seconds\n",
        "time_to_secs(train)\n",
        "time_to_secs(test)"
      ]
    },
    {
      "cell_type": "code",
      "execution_count": 7,
      "metadata": {},
      "outputs": [],
      "source": [
        "test.set_index('date', inplace= True)\n",
        "train.set_index('date', inplace= True)"
      ]
    },
    {
      "cell_type": "code",
      "execution_count": 8,
      "metadata": {},
      "outputs": [
        {
          "data": {
            "text/html": [
              "<div>\n",
              "<style scoped>\n",
              "    .dataframe tbody tr th:only-of-type {\n",
              "        vertical-align: middle;\n",
              "    }\n",
              "\n",
              "    .dataframe tbody tr th {\n",
              "        vertical-align: top;\n",
              "    }\n",
              "\n",
              "    .dataframe thead th {\n",
              "        text-align: right;\n",
              "    }\n",
              "</style>\n",
              "<table border=\"1\" class=\"dataframe\">\n",
              "  <thead>\n",
              "    <tr style=\"text-align: right;\">\n",
              "      <th></th>\n",
              "      <th>Origin_lat</th>\n",
              "      <th>Origin_lon</th>\n",
              "      <th>Destination_lat</th>\n",
              "      <th>Destination_lon</th>\n",
              "      <th>Trip_distance</th>\n",
              "      <th>ETA</th>\n",
              "      <th>total_secs</th>\n",
              "    </tr>\n",
              "    <tr>\n",
              "      <th>date</th>\n",
              "      <th></th>\n",
              "      <th></th>\n",
              "      <th></th>\n",
              "      <th></th>\n",
              "      <th></th>\n",
              "      <th></th>\n",
              "      <th></th>\n",
              "    </tr>\n",
              "  </thead>\n",
              "  <tbody>\n",
              "    <tr>\n",
              "      <th>2019-12-04</th>\n",
              "      <td>3.258</td>\n",
              "      <td>36.777</td>\n",
              "      <td>3.003</td>\n",
              "      <td>36.718</td>\n",
              "      <td>39627</td>\n",
              "      <td>2784</td>\n",
              "      <td>72110</td>\n",
              "    </tr>\n",
              "    <tr>\n",
              "      <th>2019-12-10</th>\n",
              "      <td>3.087</td>\n",
              "      <td>36.707</td>\n",
              "      <td>3.081</td>\n",
              "      <td>36.727</td>\n",
              "      <td>3918</td>\n",
              "      <td>576</td>\n",
              "      <td>81429</td>\n",
              "    </tr>\n",
              "  </tbody>\n",
              "</table>\n",
              "</div>"
            ],
            "text/plain": [
              "            Origin_lat  Origin_lon  Destination_lat  Destination_lon  \\\n",
              "date                                                                   \n",
              "2019-12-04       3.258      36.777            3.003           36.718   \n",
              "2019-12-10       3.087      36.707            3.081           36.727   \n",
              "\n",
              "            Trip_distance   ETA  total_secs  \n",
              "date                                         \n",
              "2019-12-04          39627  2784       72110  \n",
              "2019-12-10           3918   576       81429  "
            ]
          },
          "execution_count": 8,
          "metadata": {},
          "output_type": "execute_result"
        }
      ],
      "source": [
        "train.head(2)"
      ]
    },
    {
      "cell_type": "code",
      "execution_count": 9,
      "metadata": {
        "colab": {
          "base_uri": "https://localhost:8080/",
          "height": 206
        },
        "id": "BBssAeqaAYbs",
        "outputId": "12864bfa-a283-4e39-fb92-75aa6e4c502c"
      },
      "outputs": [
        {
          "data": {
            "text/html": [
              "<div>\n",
              "<style scoped>\n",
              "    .dataframe tbody tr th:only-of-type {\n",
              "        vertical-align: middle;\n",
              "    }\n",
              "\n",
              "    .dataframe tbody tr th {\n",
              "        vertical-align: top;\n",
              "    }\n",
              "\n",
              "    .dataframe thead th {\n",
              "        text-align: right;\n",
              "    }\n",
              "</style>\n",
              "<table border=\"1\" class=\"dataframe\">\n",
              "  <thead>\n",
              "    <tr style=\"text-align: right;\">\n",
              "      <th></th>\n",
              "      <th>Origin_lat</th>\n",
              "      <th>Origin_lon</th>\n",
              "      <th>Destination_lat</th>\n",
              "      <th>Destination_lon</th>\n",
              "      <th>Trip_distance</th>\n",
              "      <th>total_secs</th>\n",
              "    </tr>\n",
              "    <tr>\n",
              "      <th>date</th>\n",
              "      <th></th>\n",
              "      <th></th>\n",
              "      <th></th>\n",
              "      <th></th>\n",
              "      <th></th>\n",
              "      <th></th>\n",
              "    </tr>\n",
              "  </thead>\n",
              "  <tbody>\n",
              "    <tr>\n",
              "      <th>2019-12-21</th>\n",
              "      <td>2.981</td>\n",
              "      <td>36.688</td>\n",
              "      <td>2.978</td>\n",
              "      <td>36.754</td>\n",
              "      <td>17549</td>\n",
              "      <td>21157</td>\n",
              "    </tr>\n",
              "    <tr>\n",
              "      <th>2019-12-25</th>\n",
              "      <td>3.032</td>\n",
              "      <td>36.769</td>\n",
              "      <td>3.074</td>\n",
              "      <td>36.751</td>\n",
              "      <td>7532</td>\n",
              "      <td>77933</td>\n",
              "    </tr>\n",
              "    <tr>\n",
              "      <th>2019-12-29</th>\n",
              "      <td>3.035</td>\n",
              "      <td>36.711</td>\n",
              "      <td>3.010</td>\n",
              "      <td>36.758</td>\n",
              "      <td>10194</td>\n",
              "      <td>77429</td>\n",
              "    </tr>\n",
              "    <tr>\n",
              "      <th>2019-12-31</th>\n",
              "      <td>2.902</td>\n",
              "      <td>36.738</td>\n",
              "      <td>3.208</td>\n",
              "      <td>36.698</td>\n",
              "      <td>32768</td>\n",
              "      <td>82317</td>\n",
              "    </tr>\n",
              "    <tr>\n",
              "      <th>2019-12-28</th>\n",
              "      <td>2.860</td>\n",
              "      <td>36.692</td>\n",
              "      <td>2.828</td>\n",
              "      <td>36.696</td>\n",
              "      <td>4513</td>\n",
              "      <td>78442</td>\n",
              "    </tr>\n",
              "  </tbody>\n",
              "</table>\n",
              "</div>"
            ],
            "text/plain": [
              "            Origin_lat  Origin_lon  Destination_lat  Destination_lon  \\\n",
              "date                                                                   \n",
              "2019-12-21       2.981      36.688            2.978           36.754   \n",
              "2019-12-25       3.032      36.769            3.074           36.751   \n",
              "2019-12-29       3.035      36.711            3.010           36.758   \n",
              "2019-12-31       2.902      36.738            3.208           36.698   \n",
              "2019-12-28       2.860      36.692            2.828           36.696   \n",
              "\n",
              "            Trip_distance  total_secs  \n",
              "date                                   \n",
              "2019-12-21          17549       21157  \n",
              "2019-12-25           7532       77933  \n",
              "2019-12-29          10194       77429  \n",
              "2019-12-31          32768       82317  \n",
              "2019-12-28           4513       78442  "
            ]
          },
          "execution_count": 9,
          "metadata": {},
          "output_type": "execute_result"
        }
      ],
      "source": [
        "test.head()"
      ]
    },
    {
      "cell_type": "code",
      "execution_count": 10,
      "metadata": {
        "colab": {
          "base_uri": "https://localhost:8080/"
        },
        "id": "wuTqIthgAuqV",
        "outputId": "eb631144-612f-4793-f52d-b191f297dce2"
      },
      "outputs": [
        {
          "name": "stdout",
          "output_type": "stream",
          "text": [
            "<class 'pandas.core.frame.DataFrame'>\n",
            "Index: 35625 entries, 2019-12-21 to 2019-12-20\n",
            "Data columns (total 6 columns):\n",
            " #   Column           Non-Null Count  Dtype  \n",
            "---  ------           --------------  -----  \n",
            " 0   Origin_lat       35625 non-null  float64\n",
            " 1   Origin_lon       35625 non-null  float64\n",
            " 2   Destination_lat  35625 non-null  float64\n",
            " 3   Destination_lon  35625 non-null  float64\n",
            " 4   Trip_distance    35625 non-null  int64  \n",
            " 5   total_secs       35625 non-null  int32  \n",
            "dtypes: float64(4), int32(1), int64(1)\n",
            "memory usage: 1.8+ MB\n"
          ]
        }
      ],
      "source": [
        "test.info()"
      ]
    },
    {
      "cell_type": "code",
      "execution_count": 11,
      "metadata": {
        "colab": {
          "base_uri": "https://localhost:8080/",
          "height": 206
        },
        "id": "M0DDPOuEBLHK",
        "outputId": "aa213dab-fb7f-44f0-db3a-0b640da2e78d"
      },
      "outputs": [
        {
          "data": {
            "text/html": [
              "<div>\n",
              "<style scoped>\n",
              "    .dataframe tbody tr th:only-of-type {\n",
              "        vertical-align: middle;\n",
              "    }\n",
              "\n",
              "    .dataframe tbody tr th {\n",
              "        vertical-align: top;\n",
              "    }\n",
              "\n",
              "    .dataframe thead th {\n",
              "        text-align: right;\n",
              "    }\n",
              "</style>\n",
              "<table border=\"1\" class=\"dataframe\">\n",
              "  <thead>\n",
              "    <tr style=\"text-align: right;\">\n",
              "      <th></th>\n",
              "      <th>date</th>\n",
              "      <th>dewpoint_2m_temperature</th>\n",
              "      <th>maximum_2m_air_temperature</th>\n",
              "      <th>mean_2m_air_temperature</th>\n",
              "      <th>mean_sea_level_pressure</th>\n",
              "      <th>minimum_2m_air_temperature</th>\n",
              "      <th>surface_pressure</th>\n",
              "      <th>total_precipitation</th>\n",
              "      <th>u_component_of_wind_10m</th>\n",
              "      <th>v_component_of_wind_10m</th>\n",
              "    </tr>\n",
              "  </thead>\n",
              "  <tbody>\n",
              "    <tr>\n",
              "      <th>0</th>\n",
              "      <td>2019-11-01</td>\n",
              "      <td>290.630524</td>\n",
              "      <td>296.434662</td>\n",
              "      <td>294.125061</td>\n",
              "      <td>101853.617188</td>\n",
              "      <td>292.503998</td>\n",
              "      <td>100806.351562</td>\n",
              "      <td>0.004297</td>\n",
              "      <td>3.561323</td>\n",
              "      <td>0.941695</td>\n",
              "    </tr>\n",
              "    <tr>\n",
              "      <th>1</th>\n",
              "      <td>2019-11-02</td>\n",
              "      <td>289.135284</td>\n",
              "      <td>298.432404</td>\n",
              "      <td>295.551666</td>\n",
              "      <td>101225.164062</td>\n",
              "      <td>293.337921</td>\n",
              "      <td>100187.250000</td>\n",
              "      <td>0.001767</td>\n",
              "      <td>5.318593</td>\n",
              "      <td>3.258237</td>\n",
              "    </tr>\n",
              "    <tr>\n",
              "      <th>2</th>\n",
              "      <td>2019-11-03</td>\n",
              "      <td>287.667694</td>\n",
              "      <td>296.612122</td>\n",
              "      <td>295.182831</td>\n",
              "      <td>100806.617188</td>\n",
              "      <td>293.674316</td>\n",
              "      <td>99771.414062</td>\n",
              "      <td>0.000797</td>\n",
              "      <td>8.447649</td>\n",
              "      <td>3.172982</td>\n",
              "    </tr>\n",
              "    <tr>\n",
              "      <th>3</th>\n",
              "      <td>2019-11-04</td>\n",
              "      <td>287.634644</td>\n",
              "      <td>297.173737</td>\n",
              "      <td>294.368134</td>\n",
              "      <td>101240.929688</td>\n",
              "      <td>292.376221</td>\n",
              "      <td>100200.843750</td>\n",
              "      <td>0.000393</td>\n",
              "      <td>5.991428</td>\n",
              "      <td>2.236700</td>\n",
              "    </tr>\n",
              "    <tr>\n",
              "      <th>4</th>\n",
              "      <td>2019-11-05</td>\n",
              "      <td>286.413788</td>\n",
              "      <td>294.284851</td>\n",
              "      <td>292.496979</td>\n",
              "      <td>101131.750000</td>\n",
              "      <td>289.143066</td>\n",
              "      <td>100088.500000</td>\n",
              "      <td>0.004658</td>\n",
              "      <td>6.962730</td>\n",
              "      <td>2.655364</td>\n",
              "    </tr>\n",
              "  </tbody>\n",
              "</table>\n",
              "</div>"
            ],
            "text/plain": [
              "         date  dewpoint_2m_temperature  maximum_2m_air_temperature  \\\n",
              "0  2019-11-01               290.630524                  296.434662   \n",
              "1  2019-11-02               289.135284                  298.432404   \n",
              "2  2019-11-03               287.667694                  296.612122   \n",
              "3  2019-11-04               287.634644                  297.173737   \n",
              "4  2019-11-05               286.413788                  294.284851   \n",
              "\n",
              "   mean_2m_air_temperature  mean_sea_level_pressure  \\\n",
              "0               294.125061            101853.617188   \n",
              "1               295.551666            101225.164062   \n",
              "2               295.182831            100806.617188   \n",
              "3               294.368134            101240.929688   \n",
              "4               292.496979            101131.750000   \n",
              "\n",
              "   minimum_2m_air_temperature  surface_pressure  total_precipitation  \\\n",
              "0                  292.503998     100806.351562             0.004297   \n",
              "1                  293.337921     100187.250000             0.001767   \n",
              "2                  293.674316      99771.414062             0.000797   \n",
              "3                  292.376221     100200.843750             0.000393   \n",
              "4                  289.143066     100088.500000             0.004658   \n",
              "\n",
              "   u_component_of_wind_10m  v_component_of_wind_10m  \n",
              "0                 3.561323                 0.941695  \n",
              "1                 5.318593                 3.258237  \n",
              "2                 8.447649                 3.172982  \n",
              "3                 5.991428                 2.236700  \n",
              "4                 6.962730                 2.655364  "
            ]
          },
          "execution_count": 11,
          "metadata": {},
          "output_type": "execute_result"
        }
      ],
      "source": [
        "weather.head()"
      ]
    },
    {
      "cell_type": "code",
      "execution_count": 12,
      "metadata": {
        "colab": {
          "base_uri": "https://localhost:8080/"
        },
        "id": "_Z_M2UuaBE_P",
        "outputId": "906fecd0-f9c7-4d4b-c740-4c8278b10917"
      },
      "outputs": [
        {
          "name": "stdout",
          "output_type": "stream",
          "text": [
            "<class 'pandas.core.frame.DataFrame'>\n",
            "RangeIndex: 61 entries, 0 to 60\n",
            "Data columns (total 10 columns):\n",
            " #   Column                      Non-Null Count  Dtype  \n",
            "---  ------                      --------------  -----  \n",
            " 0   date                        61 non-null     object \n",
            " 1   dewpoint_2m_temperature     61 non-null     float64\n",
            " 2   maximum_2m_air_temperature  61 non-null     float64\n",
            " 3   mean_2m_air_temperature     61 non-null     float64\n",
            " 4   mean_sea_level_pressure     61 non-null     float64\n",
            " 5   minimum_2m_air_temperature  61 non-null     float64\n",
            " 6   surface_pressure            61 non-null     float64\n",
            " 7   total_precipitation         61 non-null     float64\n",
            " 8   u_component_of_wind_10m     61 non-null     float64\n",
            " 9   v_component_of_wind_10m     61 non-null     float64\n",
            "dtypes: float64(9), object(1)\n",
            "memory usage: 4.9+ KB\n"
          ]
        }
      ],
      "source": [
        "weather.info()"
      ]
    },
    {
      "cell_type": "code",
      "execution_count": 13,
      "metadata": {
        "colab": {
          "base_uri": "https://localhost:8080/",
          "height": 300
        },
        "id": "Slj_ROrsD0V4",
        "outputId": "3a99f297-864d-4f00-f9b7-c0bb5aa701c9"
      },
      "outputs": [
        {
          "data": {
            "text/html": [
              "<div>\n",
              "<style scoped>\n",
              "    .dataframe tbody tr th:only-of-type {\n",
              "        vertical-align: middle;\n",
              "    }\n",
              "\n",
              "    .dataframe tbody tr th {\n",
              "        vertical-align: top;\n",
              "    }\n",
              "\n",
              "    .dataframe thead th {\n",
              "        text-align: right;\n",
              "    }\n",
              "</style>\n",
              "<table border=\"1\" class=\"dataframe\">\n",
              "  <thead>\n",
              "    <tr style=\"text-align: right;\">\n",
              "      <th></th>\n",
              "      <th>Origin_lat</th>\n",
              "      <th>Origin_lon</th>\n",
              "      <th>Destination_lat</th>\n",
              "      <th>Destination_lon</th>\n",
              "      <th>Trip_distance</th>\n",
              "      <th>ETA</th>\n",
              "      <th>total_secs</th>\n",
              "    </tr>\n",
              "  </thead>\n",
              "  <tbody>\n",
              "    <tr>\n",
              "      <th>count</th>\n",
              "      <td>83924.000000</td>\n",
              "      <td>83924.000000</td>\n",
              "      <td>83924.000000</td>\n",
              "      <td>83924.000000</td>\n",
              "      <td>83924.000000</td>\n",
              "      <td>83924.000000</td>\n",
              "      <td>83924.000000</td>\n",
              "    </tr>\n",
              "    <tr>\n",
              "      <th>mean</th>\n",
              "      <td>3.052406</td>\n",
              "      <td>36.739358</td>\n",
              "      <td>3.056962</td>\n",
              "      <td>36.737732</td>\n",
              "      <td>13527.821410</td>\n",
              "      <td>1111.697762</td>\n",
              "      <td>56882.935787</td>\n",
              "    </tr>\n",
              "    <tr>\n",
              "      <th>std</th>\n",
              "      <td>0.096388</td>\n",
              "      <td>0.032074</td>\n",
              "      <td>0.100710</td>\n",
              "      <td>0.032781</td>\n",
              "      <td>9296.716006</td>\n",
              "      <td>563.565486</td>\n",
              "      <td>31568.908654</td>\n",
              "    </tr>\n",
              "    <tr>\n",
              "      <th>min</th>\n",
              "      <td>2.807000</td>\n",
              "      <td>36.589000</td>\n",
              "      <td>2.807000</td>\n",
              "      <td>36.596000</td>\n",
              "      <td>1.000000</td>\n",
              "      <td>1.000000</td>\n",
              "      <td>0.000000</td>\n",
              "    </tr>\n",
              "    <tr>\n",
              "      <th>25%</th>\n",
              "      <td>2.994000</td>\n",
              "      <td>36.721000</td>\n",
              "      <td>2.995000</td>\n",
              "      <td>36.718000</td>\n",
              "      <td>6108.000000</td>\n",
              "      <td>701.000000</td>\n",
              "      <td>19450.000000</td>\n",
              "    </tr>\n",
              "    <tr>\n",
              "      <th>50%</th>\n",
              "      <td>3.046000</td>\n",
              "      <td>36.742000</td>\n",
              "      <td>3.049000</td>\n",
              "      <td>36.742000</td>\n",
              "      <td>11731.500000</td>\n",
              "      <td>1054.000000</td>\n",
              "      <td>74784.000000</td>\n",
              "    </tr>\n",
              "    <tr>\n",
              "      <th>75%</th>\n",
              "      <td>3.095000</td>\n",
              "      <td>36.760000</td>\n",
              "      <td>3.109000</td>\n",
              "      <td>36.760000</td>\n",
              "      <td>19369.000000</td>\n",
              "      <td>1456.000000</td>\n",
              "      <td>79617.000000</td>\n",
              "    </tr>\n",
              "    <tr>\n",
              "      <th>max</th>\n",
              "      <td>3.381000</td>\n",
              "      <td>36.820000</td>\n",
              "      <td>3.381000</td>\n",
              "      <td>36.819000</td>\n",
              "      <td>62028.000000</td>\n",
              "      <td>5238.000000</td>\n",
              "      <td>86398.000000</td>\n",
              "    </tr>\n",
              "  </tbody>\n",
              "</table>\n",
              "</div>"
            ],
            "text/plain": [
              "         Origin_lat    Origin_lon  Destination_lat  Destination_lon  \\\n",
              "count  83924.000000  83924.000000     83924.000000     83924.000000   \n",
              "mean       3.052406     36.739358         3.056962        36.737732   \n",
              "std        0.096388      0.032074         0.100710         0.032781   \n",
              "min        2.807000     36.589000         2.807000        36.596000   \n",
              "25%        2.994000     36.721000         2.995000        36.718000   \n",
              "50%        3.046000     36.742000         3.049000        36.742000   \n",
              "75%        3.095000     36.760000         3.109000        36.760000   \n",
              "max        3.381000     36.820000         3.381000        36.819000   \n",
              "\n",
              "       Trip_distance           ETA    total_secs  \n",
              "count   83924.000000  83924.000000  83924.000000  \n",
              "mean    13527.821410   1111.697762  56882.935787  \n",
              "std      9296.716006    563.565486  31568.908654  \n",
              "min         1.000000      1.000000      0.000000  \n",
              "25%      6108.000000    701.000000  19450.000000  \n",
              "50%     11731.500000   1054.000000  74784.000000  \n",
              "75%     19369.000000   1456.000000  79617.000000  \n",
              "max     62028.000000   5238.000000  86398.000000  "
            ]
          },
          "execution_count": 13,
          "metadata": {},
          "output_type": "execute_result"
        }
      ],
      "source": [
        "train.describe()"
      ]
    },
    {
      "cell_type": "markdown",
      "metadata": {
        "id": "0PSAf8TQ4Nz6"
      },
      "source": [
        "## Hypothesis\n",
        "**H0**: holidays have a big effect on sales, hence the sales data is seasonal.\n",
        "\n",
        "**H1**: holidays don't affect sales, hence sales data is stationary."
      ]
    },
    {
      "cell_type": "markdown",
      "metadata": {
        "id": "9m8lZeet4Nz6"
      },
      "source": [
        "## Questions\n",
        "\n",
        "1. Is the train data complete?\n",
        "2. Do we have seasonality in our sales?\n",
        "3. Are there outliers in our dataset?\n",
        "4. What is the difference between RMSLE, RMSE and MSE?"
      ]
    },
    {
      "cell_type": "markdown",
      "metadata": {
        "id": "hqYE8pYDyiT5"
      },
      "source": [
        "| Issues                                  | how we intend to solve them                                                                                                   |\n",
        "|----------------------------------------|------------------------------------------------------------------------------------------------------------|\n",
        "| 1. City, type & cluster in our stores dataset are mumerical | convert to string and make the categories more descriptive.                                            |\n",
        "| 2. The dayofyear column in our dates dataset ranges from 1 to 366. This will make some days fall on the wrong number | find the sine and cosine of this column to represent the cyclic nature of a year. | We can also include weather conditions, holidays and events to this.                        |\n"
      ]
    },
    {
      "cell_type": "markdown",
      "metadata": {
        "id": "KZnWtLbK4Nz7"
      },
      "source": [
        "# Data Cleaning\n",
        "\n",
        "Here, we will prepare our data for Univariate and Bivariate analysis."
      ]
    },
    {
      "cell_type": "markdown",
      "metadata": {
        "id": "VND4jVpS4Nz7"
      },
      "source": [
        "## Fixing our issues"
      ]
    },
    {
      "cell_type": "markdown",
      "metadata": {
        "id": "vjFCEucJjUnj"
      },
      "source": [
        "### merging our data"
      ]
    },
    {
      "cell_type": "code",
      "execution_count": 14,
      "metadata": {
        "id": "TKmk7PvkwCxE"
      },
      "outputs": [],
      "source": [
        "#merging train and test with stores dataset\n",
        "\n",
        "def merge(df1, df2):\n",
        "    merged_df = df1.merge(df2, how='left', on='date')\n",
        "\n",
        "    return merged_df"
      ]
    },
    {
      "cell_type": "code",
      "execution_count": 15,
      "metadata": {
        "id": "s2V51TaZwCxO"
      },
      "outputs": [],
      "source": [
        "# train = merge(train.reset_index(), weather.reset_index())\n",
        "# test = merge(test.reset_index(), weather.reset_index())"
      ]
    },
    {
      "cell_type": "code",
      "execution_count": 16,
      "metadata": {},
      "outputs": [],
      "source": [
        "# train.set_index('date', inplace= True)\n",
        "# test.set_index('date', inplace= True)"
      ]
    },
    {
      "cell_type": "markdown",
      "metadata": {
        "id": "nmZ1QBT54N0P"
      },
      "source": [
        "## Drop Duplicates"
      ]
    },
    {
      "cell_type": "code",
      "execution_count": 17,
      "metadata": {
        "id": "f_muKXb1DvRi"
      },
      "outputs": [],
      "source": [
        "train.drop_duplicates(inplace=True)\n",
        "test.drop_duplicates(inplace=True)"
      ]
    },
    {
      "cell_type": "markdown",
      "metadata": {
        "id": "AGnoifAP4N0P"
      },
      "source": [
        "## Impute Missing Values"
      ]
    },
    {
      "cell_type": "code",
      "execution_count": 18,
      "metadata": {
        "colab": {
          "base_uri": "https://localhost:8080/"
        },
        "id": "d57DfF5_Jhaw",
        "outputId": "3a634dfd-7bc6-4dc2-b4d0-c12eb0dcf4fa"
      },
      "outputs": [
        {
          "name": "stdout",
          "output_type": "stream",
          "text": [
            "Origin_lat         0\n",
            "Origin_lon         0\n",
            "Destination_lat    0\n",
            "Destination_lon    0\n",
            "Trip_distance      0\n",
            "ETA                0\n",
            "total_secs         0\n",
            "dtype: int64\n",
            "Origin_lat         0\n",
            "Origin_lon         0\n",
            "Destination_lat    0\n",
            "Destination_lon    0\n",
            "Trip_distance      0\n",
            "total_secs         0\n",
            "dtype: int64\n"
          ]
        }
      ],
      "source": [
        "print(train.isnull().sum())\n",
        "print(test.isnull().sum())"
      ]
    },
    {
      "cell_type": "markdown",
      "metadata": {
        "id": "sIWpPR144N0Q"
      },
      "source": [
        "# Exploratory Data Analysis: EDA"
      ]
    },
    {
      "cell_type": "markdown",
      "metadata": {
        "id": "RD0uSjg0Mcck"
      },
      "source": [
        "## Hypothesis Validation\n",
        "**H0**: holidays have a big effect on sales, hence the sales data is seasonal.\n",
        "\n",
        "**H1**: holidays don't affect sales, hence sales data is stationary."
      ]
    },
    {
      "cell_type": "code",
      "execution_count": 19,
      "metadata": {
        "id": "ANRYdnp8wCxV"
      },
      "outputs": [],
      "source": [
        "# create a function to check for missing extracted dates\n",
        "def get_missing_dates(df):\n",
        "  col = df.index\n",
        "  missing_dates = (pd.date_range(\n",
        "\n",
        "      start=col.min(), #start date\n",
        "      end=col.max())   #end_date\n",
        "      .difference(col))\n",
        "  print(f\"we have {len(missing_dates)} dates missing out of {len(col)}\")\n",
        "  print(f\"start: {col.min()}, end: {col.max()}\")\n",
        "  return missing_dates"
      ]
    },
    {
      "cell_type": "code",
      "execution_count": 20,
      "metadata": {
        "colab": {
          "base_uri": "https://localhost:8080/"
        },
        "id": "JTdaJT8wK4gb",
        "outputId": "c98975ad-5200-49b0-a46b-b064c6cc3368"
      },
      "outputs": [
        {
          "name": "stdout",
          "output_type": "stream",
          "text": [
            "we have 31 dates missing out of 83766\n",
            "start: 2019-11-19, end: 2019-12-19\n"
          ]
        },
        {
          "data": {
            "text/plain": [
              "DatetimeIndex(['2019-11-19', '2019-11-20', '2019-11-21', '2019-11-22',\n",
              "               '2019-11-23', '2019-11-24', '2019-11-25', '2019-11-26',\n",
              "               '2019-11-27', '2019-11-28', '2019-11-29', '2019-11-30',\n",
              "               '2019-12-01', '2019-12-02', '2019-12-03', '2019-12-04',\n",
              "               '2019-12-05', '2019-12-06', '2019-12-07', '2019-12-08',\n",
              "               '2019-12-09', '2019-12-10', '2019-12-11', '2019-12-12',\n",
              "               '2019-12-13', '2019-12-14', '2019-12-15', '2019-12-16',\n",
              "               '2019-12-17', '2019-12-18', '2019-12-19'],\n",
              "              dtype='datetime64[ns]', freq=None)"
            ]
          },
          "execution_count": 20,
          "metadata": {},
          "output_type": "execute_result"
        }
      ],
      "source": [
        "get_missing_dates(train)"
      ]
    },
    {
      "cell_type": "code",
      "execution_count": 21,
      "metadata": {
        "colab": {
          "base_uri": "https://localhost:8080/"
        },
        "id": "PoPh2HC1wCxY",
        "outputId": "007fe255-869b-4175-8b45-540a909a5cae"
      },
      "outputs": [
        {
          "name": "stdout",
          "output_type": "stream",
          "text": [
            "we have 12 dates missing out of 35545\n",
            "start: 2019-12-20, end: 2019-12-31\n"
          ]
        },
        {
          "data": {
            "text/plain": [
              "DatetimeIndex(['2019-12-20', '2019-12-21', '2019-12-22', '2019-12-23',\n",
              "               '2019-12-24', '2019-12-25', '2019-12-26', '2019-12-27',\n",
              "               '2019-12-28', '2019-12-29', '2019-12-30', '2019-12-31'],\n",
              "              dtype='datetime64[ns]', freq=None)"
            ]
          },
          "execution_count": 21,
          "metadata": {},
          "output_type": "execute_result"
        }
      ],
      "source": [
        "get_missing_dates(test)"
      ]
    },
    {
      "cell_type": "markdown",
      "metadata": {
        "id": "ua7G3f6VK1hu"
      },
      "source": [
        "2. Do we have seasonality in our sales?"
      ]
    },
    {
      "cell_type": "code",
      "execution_count": 22,
      "metadata": {
        "id": "jNTmmpjQC9d2"
      },
      "outputs": [],
      "source": [
        "# Assuming your time series data is stored in the variable 'sales_data'\n",
        "sales_data = train['ETA']"
      ]
    },
    {
      "cell_type": "code",
      "execution_count": 23,
      "metadata": {
        "id": "7udcLL2CDLjy"
      },
      "outputs": [],
      "source": [
        "# Perform KPSS test\n",
        "kpss_result = kpss(sales_data)\n",
        "kpss_statistic = kpss_result[0]\n",
        "kpss_pvalue = kpss_result[1]\n",
        "kpss_critical_values = kpss_result[3]"
      ]
    },
    {
      "cell_type": "code",
      "execution_count": 24,
      "metadata": {
        "colab": {
          "base_uri": "https://localhost:8080/"
        },
        "id": "OD16D9Ka_1DZ",
        "outputId": "66dfb3e0-4f45-4d64-de13-01f110d3d18c"
      },
      "outputs": [
        {
          "name": "stdout",
          "output_type": "stream",
          "text": [
            "\n",
            "KPSS Test:\n",
            "KPSS Statistic: 0.08931298220532714\n",
            "p-value: 0.1\n"
          ]
        }
      ],
      "source": [
        "print(\"\\nKPSS Test:\")\n",
        "print(\"KPSS Statistic:\", kpss_statistic)\n",
        "print(\"p-value:\", kpss_pvalue)"
      ]
    },
    {
      "cell_type": "markdown",
      "metadata": {
        "id": "_tP01NM6wCxb"
      },
      "source": [
        "stationary if p-value > 0.05\n",
        "\n",
        "series is stationary since 0.01 < 0.05"
      ]
    },
    {
      "cell_type": "code",
      "execution_count": 25,
      "metadata": {
        "colab": {
          "base_uri": "https://localhost:8080/",
          "height": 580
        },
        "id": "C-k2e6-gDEZP",
        "outputId": "c1a286da-c233-4a75-fb39-df009434c70b"
      },
      "outputs": [],
      "source": [
        "# def check_stationarity(df, date_col, target_col, window=12):\n",
        "#     # Calculate rolling statistics\n",
        "#     rolling_std = df[target_col].rolling(window=window).std()\n",
        "#     rolling_mean = df[target_col].rolling(window=window).mean()\n",
        "\n",
        "#     # Plot original series and rolling statistics\n",
        "#     plt.figure(figsize=(10, 6))\n",
        "#     plt.plot(df.index, df[target_col], color='blue', label='Original Series')\n",
        "#     plt.plot(df.index, rolling_std, color='green', label='Rolling Std')\n",
        "#     plt.plot(df.index, rolling_mean, color='red', label='Rolling Mean')\n",
        "#     plt.legend()\n",
        "#     plt.title('Rolling Statistics')\n",
        "#     plt.xlabel('Date')\n",
        "#     plt.ylabel('Target(sales)')\n",
        "#     plt.tight_layout()  # Adjusts plot spacing\n",
        "#     plt.show()\n",
        "\n",
        "# # Example usage\n",
        "# df = sales_data  # Assuming the sales data is stored in a dataframe called sales_data\n",
        "# target_col = 'sales'  # Column containing the sales data\n",
        "\n",
        "# check_stationarity(train, 'date_extracted', 'ETA')"
      ]
    },
    {
      "cell_type": "markdown",
      "metadata": {
        "id": "6GmpRhjT4N0V"
      },
      "source": [
        "# Feature Engineering"
      ]
    },
    {
      "cell_type": "markdown",
      "metadata": {
        "id": "nDXigCJl4N0V"
      },
      "source": [
        "## Creating New Features"
      ]
    },
    {
      "cell_type": "code",
      "execution_count": 26,
      "metadata": {
        "id": "ZnnEQBN9HfL3"
      },
      "outputs": [],
      "source": [
        "# Define the getDateFeatures() function\n",
        "def getDateFeatures(df):\n",
        "    df['year'] = df['date'].dt.year\n",
        "    df['month'] = df['date'].dt.month\n",
        "    df['dayofmonth'] = df['date'].dt.day\n",
        "    df['dayofweek'] = df['date'].dt.dayofweek\n",
        "    df['weekofyear'] = df['date'].dt.weekofyear\n",
        "\n",
        "    df['quarter'] = df['date'].dt.quarter\n",
        "    df['is_month_start'] = df['date'].dt.is_month_start.astype(int)\n",
        "    df['is_month_end'] = df['date'].dt.is_month_end.astype(int)\n",
        "    df['is_quarter_start'] = df['date'].dt.is_quarter_start.astype(int)\n",
        "    \n",
        "    df['is_quarter_end'] = df['date'].dt.is_quarter_end.astype(int)\n",
        "    df['is_year_start'] = df['date'].dt.is_year_start.astype(int)\n",
        "    df['is_year_end'] = df['date'].dt.is_year_end.astype(int)\n",
        "    # Extract the 'year' and 'weekofyear' components from the 'date' column\n",
        "    df['year_weekofyear'] = df['date'].dt.year * 100 + df['date'].dt.weekofyear\n",
        "\n",
        "    # create new coolumns to represent the cyclic nature of a year\n",
        "    df['dayofyear'] = df['date'].dt.dayofyear\n",
        "    df[\"sin(dayofyear)\"] = np.sin(df[\"dayofyear\"])\n",
        "    df[\"cos(dayofyear)\"] = np.cos(df[\"dayofyear\"])\n",
        "\n",
        "    df[\"is_weekend\"] = np.where(df['dayofweek'] > 4, 1, 0)\n",
        "\n",
        "    # Define the criteria for each season\n",
        "    seasons = {'Winter': [12, 1, 2], 'Spring': [3, 4, 5], 'Summer': [6, 7, 8], 'Autumn': [9, 10, 11]}\n",
        "\n",
        "    # Create the 'season' column based on the 'date' column\n",
        "    df['season'] = df['month'].map({month: season for season, months in seasons.items() for month in months})\n",
        "    "
      ]
    },
    {
      "cell_type": "code",
      "execution_count": 27,
      "metadata": {
        "colab": {
          "base_uri": "https://localhost:8080/",
          "height": 519
        },
        "id": "qBC3kYEiHkEA",
        "outputId": "1acfe0e0-4134-4c2c-daf2-4b12db9f3351"
      },
      "outputs": [],
      "source": [
        "# getDateFeatures(train.reset_index())\n",
        "# getDateFeatures(test.reset_index())"
      ]
    },
    {
      "cell_type": "code",
      "execution_count": 28,
      "metadata": {},
      "outputs": [],
      "source": [
        "from sklearn.cluster import KMeans\n",
        "\n",
        "def preprocess_features(df):\n",
        "    # Calculate Euclidean Distance\n",
        "    df['Euclidean_Distance'] = np.sqrt((df['Destination_lat'] - df['Origin_lat'])**2 + \n",
        "                                       (df['Destination_lon'] - df['Origin_lon'])**2)\n",
        "    \n",
        "    # Calculate Manhattan Distance\n",
        "    df['Manhattan_Distance'] = abs(df['Destination_lat'] - df['Origin_lat']) + \\\n",
        "                                abs(df['Destination_lon'] - df['Origin_lon'])\n",
        "    \n",
        "    # Extract Temporal Features\n",
        "    df['date'] = pd.to_datetime(df['date'])\n",
        "    df['Day_of_Week'] = df['date'].dt.dayofweek\n",
        "    df['Month'] = df['date'].dt.month\n",
        "    df['Hour'] = df['date'].dt.hour\n",
        "    df['Is_Weekend'] = df['Day_of_Week'].isin([5, 6]).astype(int)\n",
        "    \n",
        "    # Calculate Coordinate Features\n",
        "    df['Coord_Diff_Lat'] = abs(df['Destination_lat'] - df['Origin_lat'])\n",
        "    df['Coord_Diff_Lon'] = abs(df['Destination_lon'] - df['Origin_lon'])\n",
        "    df['Avg_Lat'] = (df['Destination_lat'] + df['Origin_lat']) / 2\n",
        "    df['Avg_Lon'] = (df['Destination_lon'] + df['Origin_lon']) / 2\n",
        "    \n",
        "    # Calculate Interaction Features\n",
        "    df['Euclidean_Distance_Trip'] = df['Euclidean_Distance'] * df['Trip_distance']\n",
        "    df['Manhattan_Distance_Trip'] = df['Manhattan_Distance'] * df['Trip_distance']\n",
        "    \n",
        "    # Apply K-Means clustering\n",
        "    kmeans = KMeans(n_clusters=5, random_state=0)\n",
        "    df['Origin_Cluster'] = kmeans.fit_predict(df[['Origin_lat', 'Origin_lon']])\n",
        "    df['Destination_Cluster'] = kmeans.fit_predict(df[['Destination_lat', 'Destination_lon']])\n",
        "    \n",
        "    # Cyclical Encoding for Hour of the Day\n",
        "    df['Hour_Sin'] = np.sin(2 * np.pi * df['Hour'] / 24)\n",
        "    df['Hour_Cos'] = np.cos(2 * np.pi * df['Hour'] / 24)\n",
        "    \n",
        "    # Interaction between Temporal and Distance Features\n",
        "    df['Weekend_Distance'] = df['Is_Weekend'] * df['Euclidean_Distance']\n",
        "    \n",
        "    \n",
        "    return df\n"
      ]
    },
    {
      "cell_type": "code",
      "execution_count": 29,
      "metadata": {},
      "outputs": [],
      "source": [
        "train = preprocess_features(train.reset_index())\n",
        "test = preprocess_features(test.reset_index())\n",
        "train.set_index('date', inplace= True)\n",
        "test.set_index('date', inplace= True)"
      ]
    },
    {
      "cell_type": "markdown",
      "metadata": {
        "id": "3FVGY23N4N0c"
      },
      "source": [
        "## Features Encoding & scaling"
      ]
    },
    {
      "cell_type": "code",
      "execution_count": 30,
      "metadata": {
        "id": "Ub1-OAYM4N0d"
      },
      "outputs": [
        {
          "data": {
            "text/plain": [
              "[]"
            ]
          },
          "execution_count": 30,
          "metadata": {},
          "output_type": "execute_result"
        }
      ],
      "source": [
        "numeric_columns = train.select_dtypes(include=['int64', 'int32', 'float64']).columns.tolist()\n",
        "categoric_columns = [col for col in train.columns if col not in numeric_columns]\n",
        "categoric_columns"
      ]
    },
    {
      "cell_type": "code",
      "execution_count": 31,
      "metadata": {
        "id": "_Tv6yroc4N0d"
      },
      "outputs": [
        {
          "name": "stdout",
          "output_type": "stream",
          "text": [
            "['Origin_lat', 'Origin_lon', 'Destination_lat', 'Destination_lon', 'Trip_distance', 'total_secs', 'Euclidean_Distance', 'Manhattan_Distance', 'Day_of_Week', 'Month', 'Hour', 'Is_Weekend', 'Coord_Diff_Lat', 'Coord_Diff_Lon', 'Avg_Lat', 'Avg_Lon', 'Euclidean_Distance_Trip', 'Manhattan_Distance_Trip', 'Origin_Cluster', 'Destination_Cluster', 'Hour_Sin', 'Hour_Cos', 'Weekend_Distance']\n"
          ]
        }
      ],
      "source": [
        "numeric_columns.remove('ETA')\n",
        "print(numeric_columns)"
      ]
    },
    {
      "cell_type": "code",
      "execution_count": 32,
      "metadata": {
        "id": "VYA-XIKY4N0d"
      },
      "outputs": [],
      "source": [
        "# encoder = BinaryEncoder(drop_invariant=False, return_df=True,)\n",
        "# encoder.fit(train[categoric_columns])"
      ]
    },
    {
      "cell_type": "code",
      "execution_count": 33,
      "metadata": {},
      "outputs": [],
      "source": [
        "# Initialize the OneHotEncoder\n",
        "encoder = OneHotEncoder(sparse=False, drop='first')  # drop='first' to prevent multicollinearity\n",
        "\n",
        "# Fit and transform on training categorical columns\n",
        "encoded_data = encoder.fit_transform(train[categoric_columns])\n",
        "encoded_data_test = encoder.transform(train[categoric_columns])"
      ]
    },
    {
      "cell_type": "code",
      "execution_count": 34,
      "metadata": {
        "id": "tVyirQUMwCxz"
      },
      "outputs": [],
      "source": [
        "# Create an instance of StandardScaler and set output to be a DataFrame\n",
        "scaler = StandardScaler().fit(train[numeric_columns]).set_output (transform=\"pandas\")\n",
        "\n",
        "num = scaler.transform(train[numeric_columns])\n",
        "num_test = scaler.transform(test[numeric_columns])"
      ]
    },
    {
      "cell_type": "code",
      "execution_count": 35,
      "metadata": {},
      "outputs": [],
      "source": [
        "# Convert the encoded result to a DataFrame\n",
        "encoded_cat = pd.DataFrame(encoded_data, columns=encoder.get_feature_names_out(categoric_columns))\n",
        "encoded_cat_test = pd.DataFrame(encoded_data_test, columns=encoder.get_feature_names_out(categoric_columns))\n",
        "# Reset the index for the encoded_cat DataFrame\n",
        "encoded_cat = encoded_cat.reset_index(drop=True, inplace=True)\n",
        "encoded_cat_test = encoded_cat_test.reset_index(drop=True, inplace=True)"
      ]
    },
    {
      "cell_type": "code",
      "execution_count": 36,
      "metadata": {
        "id": "esOeOTQ1wCx0"
      },
      "outputs": [],
      "source": [
        "# encoded_cat = encoder.transform(train[categoric_columns])\n",
        "# encoded_cat_test = encoder.transform(test[categoric_columns])"
      ]
    },
    {
      "cell_type": "code",
      "execution_count": 37,
      "metadata": {
        "id": "6C2kf5Zs4N0f"
      },
      "outputs": [],
      "source": [
        "train = pd.concat([num, encoded_cat, train['ETA']], axis=1)\n",
        "test = pd.concat([num_test, encoded_cat_test], axis=1)"
      ]
    },
    {
      "cell_type": "markdown",
      "metadata": {
        "id": "Gxw32giCwCxt"
      },
      "source": [
        "## Resampling"
      ]
    },
    {
      "cell_type": "code",
      "execution_count": 38,
      "metadata": {
        "id": "G80z4W0iwCxu"
      },
      "outputs": [],
      "source": [
        "# resampled = train.resample('W').mean()\n",
        "# resampled_test = test.resample('W').mean()\n",
        "# train = resampled\n",
        "# test = resampled_test"
      ]
    },
    {
      "cell_type": "code",
      "execution_count": 39,
      "metadata": {
        "id": "7fMYBWHB4N0g"
      },
      "outputs": [],
      "source": [
        "# Split data into parts\n",
        "x = train.drop(['ETA'], axis = 1)\n",
        "y = train['ETA']"
      ]
    },
    {
      "cell_type": "code",
      "execution_count": 40,
      "metadata": {
        "id": "JWK1I8PBwCx2"
      },
      "outputs": [],
      "source": [
        "cut_num = len(train)-len(test)"
      ]
    },
    {
      "cell_type": "code",
      "execution_count": 41,
      "metadata": {
        "id": "oeHRmt8n4N0h"
      },
      "outputs": [],
      "source": [
        "# Split data into Train Test\n",
        "X_train, X_test, y_train, y_test = x[cut_num:], x[:cut_num], y[cut_num:], y[:cut_num]"
      ]
    },
    {
      "cell_type": "markdown",
      "metadata": {
        "id": "kpll6xDz4N0h"
      },
      "source": [
        "# Machine Learning Modeling"
      ]
    },
    {
      "cell_type": "markdown",
      "metadata": {
        "id": "--b5dI1L4N0h"
      },
      "source": [
        "# Non-Traditional Time Series Models"
      ]
    },
    {
      "cell_type": "markdown",
      "metadata": {
        "id": "M_f0-Hnr4N0j"
      },
      "source": [
        "### KNN"
      ]
    },
    {
      "cell_type": "code",
      "execution_count": 42,
      "metadata": {
        "id": "03R8eIEg4N0k"
      },
      "outputs": [],
      "source": [
        "from sklearn.neighbors import KNeighborsRegressor\n",
        "neigh = KNeighborsRegressor(n_neighbors=5)\n",
        "# fit model no training data\n",
        "neigh.fit(X_train, y_train)\n",
        "\n",
        "# make predictions for test data\n",
        "neigh_pred = neigh.predict(X_test)"
      ]
    },
    {
      "cell_type": "code",
      "execution_count": 43,
      "metadata": {
        "id": "b5ga2_QilXjW"
      },
      "outputs": [
        {
          "data": {
            "image/png": "[encoded data removed]",
            "text/plain": [
              "<Figure size 800x400 with 1 Axes>"
            ]
          },
          "metadata": {},
          "output_type": "display_data"
        }
      ],
      "source": [
        "plt.figure(figsize=(8,4))\n",
        "plt.plot(y_test, label ='Actual Sales')\n",
        "plt.plot(neigh_pred, label='KNeighborsRegressor')\n",
        "plt.legend(loc='best')\n",
        "plt.title('KNeighborsRegressor Prediction')\n",
        "plt.show()"
      ]
    },
    {
      "cell_type": "code",
      "execution_count": 44,
      "metadata": {
        "id": "ORSI8VNk4N0k"
      },
      "outputs": [
        {
          "data": {
            "text/html": [
              "<div>\n",
              "<style scoped>\n",
              "    .dataframe tbody tr th:only-of-type {\n",
              "        vertical-align: middle;\n",
              "    }\n",
              "\n",
              "    .dataframe tbody tr th {\n",
              "        vertical-align: top;\n",
              "    }\n",
              "\n",
              "    .dataframe thead th {\n",
              "        text-align: right;\n",
              "    }\n",
              "</style>\n",
              "<table border=\"1\" class=\"dataframe\">\n",
              "  <thead>\n",
              "    <tr style=\"text-align: right;\">\n",
              "      <th></th>\n",
              "      <th>Model</th>\n",
              "      <th>MSE</th>\n",
              "      <th>MSLE</th>\n",
              "      <th>RMSE</th>\n",
              "      <th>RMSLE</th>\n",
              "    </tr>\n",
              "  </thead>\n",
              "  <tbody>\n",
              "    <tr>\n",
              "      <th>0</th>\n",
              "      <td>KNN</td>\n",
              "      <td>55410.754195</td>\n",
              "      <td>0.064833</td>\n",
              "      <td>235.39</td>\n",
              "      <td>0.25462</td>\n",
              "    </tr>\n",
              "  </tbody>\n",
              "</table>\n",
              "</div>"
            ],
            "text/plain": [
              "  Model           MSE      MSLE    RMSE    RMSLE\n",
              "0   KNN  55410.754195  0.064833  235.39  0.25462"
            ]
          },
          "execution_count": 44,
          "metadata": {},
          "output_type": "execute_result"
        }
      ],
      "source": [
        "mse = mean_squared_error(y_test, neigh_pred )\n",
        "msle = mean_squared_log_error(y_test, neigh_pred)\n",
        "rmse = np.sqrt(mean_squared_error(y_test, neigh_pred )).round(2)\n",
        "rmsle = np.sqrt(mean_squared_log_error(y_test, neigh_pred)).round(5)\n",
        "\n",
        "# model_results = pd.DataFrame([['lightGBM', mse, rmse]], columns = ['Model', 'MSE', 'RMSE'])\n",
        "results = pd.DataFrame([['KNN', mse, msle, rmse, rmsle]], columns = ['Model', 'MSE', 'MSLE', 'RMSE', 'RMSLE'])\n",
        "results"
      ]
    },
    {
      "cell_type": "markdown",
      "metadata": {
        "id": "kkdiDsNelg7j"
      },
      "source": [
        "### RandomForestRegressor"
      ]
    },
    {
      "cell_type": "code",
      "execution_count": 45,
      "metadata": {
        "id": "r2hKk0NOll9s"
      },
      "outputs": [],
      "source": [
        "from sklearn.ensemble import RandomForestRegressor\n",
        "# Initialize and fit the Random Forest Regressor\n",
        "forest = RandomForestRegressor()\n",
        "model_forest = forest.fit(X_train, y_train)\n",
        "\n",
        "# Make predictions on X_test\n",
        "forest_pred = model_forest.predict(X_test)"
      ]
    },
    {
      "cell_type": "code",
      "execution_count": 46,
      "metadata": {
        "id": "xfU3HZ_flwRx"
      },
      "outputs": [
        {
          "data": {
            "image/png": "[encoded data removed]",
            "text/plain": [
              "<Figure size 800x400 with 1 Axes>"
            ]
          },
          "metadata": {},
          "output_type": "display_data"
        }
      ],
      "source": [
        "plt.figure(figsize=(8, 4))\n",
        "plt.plot(y_test, label='Actual Sales')\n",
        "plt.plot(forest_pred, label='RandomForestRegressor')\n",
        "plt.legend(loc='best')\n",
        "plt.title('RandomForestRegressor Prediction')\n",
        "plt.show()"
      ]
    },
    {
      "cell_type": "code",
      "execution_count": 47,
      "metadata": {
        "id": "8ZVEv2xYlxrl"
      },
      "outputs": [
        {
          "data": {
            "text/html": [
              "<div>\n",
              "<style scoped>\n",
              "    .dataframe tbody tr th:only-of-type {\n",
              "        vertical-align: middle;\n",
              "    }\n",
              "\n",
              "    .dataframe tbody tr th {\n",
              "        vertical-align: top;\n",
              "    }\n",
              "\n",
              "    .dataframe thead th {\n",
              "        text-align: right;\n",
              "    }\n",
              "</style>\n",
              "<table border=\"1\" class=\"dataframe\">\n",
              "  <thead>\n",
              "    <tr style=\"text-align: right;\">\n",
              "      <th></th>\n",
              "      <th>Model</th>\n",
              "      <th>MSE</th>\n",
              "      <th>MSLE</th>\n",
              "      <th>RMSE</th>\n",
              "      <th>RMSLE</th>\n",
              "    </tr>\n",
              "  </thead>\n",
              "  <tbody>\n",
              "    <tr>\n",
              "      <th>0</th>\n",
              "      <td>KNN</td>\n",
              "      <td>55410.754195</td>\n",
              "      <td>0.064833</td>\n",
              "      <td>235.39</td>\n",
              "      <td>0.25462</td>\n",
              "    </tr>\n",
              "    <tr>\n",
              "      <th>1</th>\n",
              "      <td>Random Forest</td>\n",
              "      <td>25380.647486</td>\n",
              "      <td>0.027430</td>\n",
              "      <td>159.31</td>\n",
              "      <td>0.16562</td>\n",
              "    </tr>\n",
              "  </tbody>\n",
              "</table>\n",
              "</div>"
            ],
            "text/plain": [
              "           Model           MSE      MSLE    RMSE    RMSLE\n",
              "0            KNN  55410.754195  0.064833  235.39  0.25462\n",
              "1  Random Forest  25380.647486  0.027430  159.31  0.16562"
            ]
          },
          "execution_count": 47,
          "metadata": {},
          "output_type": "execute_result"
        }
      ],
      "source": [
        "mse = mean_squared_error(y_test, forest_pred)\n",
        "msle = mean_squared_log_error(y_test, forest_pred)\n",
        "rmse = np.sqrt(mse).round(2)\n",
        "rmsle = np.sqrt(msle).round(5)\n",
        "\n",
        "# Append the results to the DataFrame\n",
        "model_results = pd.DataFrame([['Random Forest', mse, msle, rmse, rmsle]],\n",
        "                             columns=['Model', 'MSE', 'MSLE', 'RMSE', 'RMSLE'])\n",
        "results = results.append(model_results, ignore_index=True)\n",
        "results"
      ]
    },
    {
      "cell_type": "markdown",
      "metadata": {
        "id": "4ejfTTMmmtat"
      },
      "source": [
        "### Gradient Boosting"
      ]
    },
    {
      "cell_type": "code",
      "execution_count": 48,
      "metadata": {
        "id": "_1gA-FJem2vV"
      },
      "outputs": [],
      "source": [
        "from sklearn.ensemble import GradientBoostingRegressor\n",
        "\n",
        "# Initialize and fit the Gradient Boosting model\n",
        "gbr = GradientBoostingRegressor()\n",
        "model_gbr = gbr.fit(X_train, y_train)\n",
        "\n",
        "# Make predictions on X_test\n",
        "gbr_pred = model_gbr.predict(X_test)"
      ]
    },
    {
      "cell_type": "code",
      "execution_count": 49,
      "metadata": {
        "id": "ke9igzf3m4CD"
      },
      "outputs": [
        {
          "data": {
            "image/png": "[encoded data removed]",
            "text/plain": [
              "<Figure size 800x400 with 1 Axes>"
            ]
          },
          "metadata": {},
          "output_type": "display_data"
        }
      ],
      "source": [
        "plt.figure(figsize=(8, 4))\n",
        "plt.plot(y_test, label='Actual Sales')\n",
        "plt.plot(gbr_pred, label='Gradient Boosting')\n",
        "plt.legend(loc='best')\n",
        "plt.title('Gradient Boosting Prediction')\n",
        "plt.show()"
      ]
    },
    {
      "cell_type": "code",
      "execution_count": 50,
      "metadata": {
        "id": "jSqhcFQOmxRz"
      },
      "outputs": [],
      "source": [
        "# Append the results to the DataFrame\n",
        "mse = mean_squared_error(y_test, gbr_pred)\n",
        "# msle = mean_squared_log_error(y_test, gbr_pred)\n",
        "rmse = np.sqrt(mse).round(2)\n",
        "rmsle = np.sqrt(msle).round(5)\n",
        "\n",
        "model_results = pd.DataFrame([['Gradient Boosting', mse, msle, rmse, rmsle]],\n",
        "                             columns=['Model', 'MSE', 'MSLE', 'RMSE', 'RMSLE'])\n",
        "results = results.append(model_results, ignore_index=True)"
      ]
    },
    {
      "cell_type": "markdown",
      "metadata": {},
      "source": [
        "### Ridge regression"
      ]
    },
    {
      "cell_type": "code",
      "execution_count": 51,
      "metadata": {},
      "outputs": [],
      "source": [
        "from sklearn.linear_model import Ridge\n",
        "\n",
        "# Initialize and fit the Ridge model\n",
        "ridge = Ridge(alpha=1.0)  # You can adjust the alpha parameter\n",
        "model_ridge = ridge.fit(X_train, y_train)\n",
        "\n",
        "# Make predictions on X_test using Ridge model\n",
        "ridge_pred = model_ridge.predict(X_test)\n",
        "\n",
        "# Calculate MSE and RMSE\n",
        "ridge_mse = mean_squared_error(y_test, ridge_pred)\n",
        "ridge_rmse = np.sqrt(ridge_mse).round(2)\n",
        "\n",
        "# Append the results to the DataFrame\n",
        "ridge_results = pd.DataFrame([['Ridge', ridge_mse, ridge_rmse]],\n",
        "                             columns=['Model', 'MSE', 'RMSE'])\n",
        "\n",
        "results = results.append(ridge_results, ignore_index=True)"
      ]
    },
    {
      "cell_type": "markdown",
      "metadata": {},
      "source": [
        "### Lasso regression"
      ]
    },
    {
      "cell_type": "code",
      "execution_count": 52,
      "metadata": {},
      "outputs": [],
      "source": [
        "from sklearn.linear_model import Lasso\n",
        "\n",
        "# Initialize and fit the Lasso model\n",
        "lasso = Lasso(alpha=1.0)  # You can adjust the alpha parameter\n",
        "model_lasso = lasso.fit(X_train, y_train)\n",
        "\n",
        "# Make predictions on X_test using Lasso model\n",
        "lasso_pred = model_lasso.predict(X_test)\n",
        "\n",
        "# Calculate MSE and RMSE\n",
        "lasso_mse = mean_squared_error(y_test, lasso_pred)\n",
        "lasso_rmse = np.sqrt(lasso_mse).round(2)\n",
        "\n",
        "# Append the results to the DataFrame\n",
        "lasso_results = pd.DataFrame([['Lasso', lasso_mse, lasso_rmse]],\n",
        "                             columns=['Model', 'MSE', 'RMSE'])\n",
        "\n",
        "results = results.append(lasso_results, ignore_index=True)\n"
      ]
    },
    {
      "cell_type": "markdown",
      "metadata": {},
      "source": [
        "### XGboost"
      ]
    },
    {
      "cell_type": "code",
      "execution_count": 53,
      "metadata": {},
      "outputs": [],
      "source": [
        "import xgboost as xgb\n",
        "\n",
        "# Initialize and fit the XGBoost model\n",
        "xgboost = xgb.XGBRegressor()\n",
        "model_xgboost = xgboost.fit(X_train, y_train)\n",
        "\n",
        "# Make predictions on X_test\n",
        "xgboost_pred = model_xgboost.predict(X_test)\n",
        "\n",
        "# Append the results to the DataFrame\n",
        "mse = mean_squared_error(y_test, xgboost_pred)\n",
        "# msle = mean_squared_log_error(y_test, xgboost_pred)\n",
        "rmse = np.sqrt(mse).round(2)\n",
        "rmsle = np.sqrt(msle).round(5)\n",
        "\n",
        "model_results = pd.DataFrame([['XGBoost', mse, msle, rmse, rmsle]],\n",
        "                             columns=['Model', 'MSE', 'MSLE', 'RMSE', 'RMSLE'])\n",
        "results = results.append(model_results, ignore_index=True)"
      ]
    },
    {
      "cell_type": "code",
      "execution_count": 54,
      "metadata": {},
      "outputs": [
        {
          "data": {
            "image/png": "[encoded data removed]",
            "text/plain": [
              "<Figure size 640x480 with 1 Axes>"
            ]
          },
          "metadata": {},
          "output_type": "display_data"
        },
        {
          "name": "stdout",
          "output_type": "stream",
          "text": [
            "Origin_lat: 741.0\n",
            "Destination_lat: 571.0\n",
            "Origin_lon: 532.0\n",
            "Destination_lon: 530.0\n",
            "Trip_distance: 525.0\n",
            "total_secs: 513.0\n",
            "Avg_Lon: 312.0\n",
            "Avg_Lat: 303.0\n",
            "Coord_Diff_Lon: 214.0\n",
            "Euclidean_Distance: 191.0\n",
            "Manhattan_Distance: 151.0\n",
            "Coord_Diff_Lat: 149.0\n",
            "Euclidean_Distance_Trip: 137.0\n",
            "Day_of_Week: 129.0\n",
            "Manhattan_Distance_Trip: 108.0\n",
            "Weekend_Distance: 92.0\n",
            "Origin_Cluster: 72.0\n",
            "Destination_Cluster: 46.0\n",
            "Month: 41.0\n"
          ]
        }
      ],
      "source": [
        "import matplotlib.pyplot as plt\n",
        "\n",
        "# Using plot_importance function to visualize feature importance\n",
        "xgb.plot_importance(model_xgboost)\n",
        "plt.show()\n",
        "\n",
        "# Alternatively, you can use the get_booster() method to get the booster object\n",
        "booster = model_xgboost.get_booster()\n",
        "\n",
        "# Get the feature importance scores\n",
        "importance_scores = booster.get_score(importance_type='weight')\n",
        "\n",
        "# Sort the importance scores in descending order\n",
        "sorted_importance_scores = sorted(importance_scores.items(), key=lambda x: x[1], reverse=True)\n",
        "\n",
        "# Print the sorted importance scores\n",
        "for feature, score in sorted_importance_scores:\n",
        "    print(f\"{feature}: {score}\")"
      ]
    },
    {
      "cell_type": "markdown",
      "metadata": {
        "id": "px5fQiLs4N0k"
      },
      "source": [
        "# Models Comparison"
      ]
    },
    {
      "cell_type": "code",
      "execution_count": 55,
      "metadata": {
        "id": "D4I9RcCPnThC"
      },
      "outputs": [
        {
          "data": {
            "text/html": [
              "<div>\n",
              "<style scoped>\n",
              "    .dataframe tbody tr th:only-of-type {\n",
              "        vertical-align: middle;\n",
              "    }\n",
              "\n",
              "    .dataframe tbody tr th {\n",
              "        vertical-align: top;\n",
              "    }\n",
              "\n",
              "    .dataframe thead th {\n",
              "        text-align: right;\n",
              "    }\n",
              "</style>\n",
              "<table border=\"1\" class=\"dataframe\">\n",
              "  <thead>\n",
              "    <tr style=\"text-align: right;\">\n",
              "      <th></th>\n",
              "      <th>Model</th>\n",
              "      <th>MSE</th>\n",
              "      <th>MSLE</th>\n",
              "      <th>RMSE</th>\n",
              "      <th>RMSLE</th>\n",
              "    </tr>\n",
              "  </thead>\n",
              "  <tbody>\n",
              "    <tr>\n",
              "      <th>0</th>\n",
              "      <td>KNN</td>\n",
              "      <td>55410.754195</td>\n",
              "      <td>0.064833</td>\n",
              "      <td>235.39</td>\n",
              "      <td>0.25462</td>\n",
              "    </tr>\n",
              "    <tr>\n",
              "      <th>1</th>\n",
              "      <td>Random Forest</td>\n",
              "      <td>25380.647486</td>\n",
              "      <td>0.027430</td>\n",
              "      <td>159.31</td>\n",
              "      <td>0.16562</td>\n",
              "    </tr>\n",
              "    <tr>\n",
              "      <th>2</th>\n",
              "      <td>Gradient Boosting</td>\n",
              "      <td>36350.722761</td>\n",
              "      <td>0.027430</td>\n",
              "      <td>190.66</td>\n",
              "      <td>0.16562</td>\n",
              "    </tr>\n",
              "    <tr>\n",
              "      <th>3</th>\n",
              "      <td>Ridge</td>\n",
              "      <td>52419.816779</td>\n",
              "      <td>NaN</td>\n",
              "      <td>228.95</td>\n",
              "      <td>NaN</td>\n",
              "    </tr>\n",
              "    <tr>\n",
              "      <th>4</th>\n",
              "      <td>Lasso</td>\n",
              "      <td>56301.688810</td>\n",
              "      <td>NaN</td>\n",
              "      <td>237.28</td>\n",
              "      <td>NaN</td>\n",
              "    </tr>\n",
              "    <tr>\n",
              "      <th>5</th>\n",
              "      <td>XGBoost</td>\n",
              "      <td>22103.887456</td>\n",
              "      <td>0.027430</td>\n",
              "      <td>148.67</td>\n",
              "      <td>0.16562</td>\n",
              "    </tr>\n",
              "  </tbody>\n",
              "</table>\n",
              "</div>"
            ],
            "text/plain": [
              "               Model           MSE      MSLE    RMSE    RMSLE\n",
              "0                KNN  55410.754195  0.064833  235.39  0.25462\n",
              "1      Random Forest  25380.647486  0.027430  159.31  0.16562\n",
              "2  Gradient Boosting  36350.722761  0.027430  190.66  0.16562\n",
              "3              Ridge  52419.816779       NaN  228.95      NaN\n",
              "4              Lasso  56301.688810       NaN  237.28      NaN\n",
              "5            XGBoost  22103.887456  0.027430  148.67  0.16562"
            ]
          },
          "execution_count": 55,
          "metadata": {},
          "output_type": "execute_result"
        }
      ],
      "source": [
        "results"
      ]
    },
    {
      "cell_type": "markdown",
      "metadata": {
        "id": "pqIJI8kx4N0l"
      },
      "source": [
        "# Model Evaluation (Backtests)"
      ]
    },
    {
      "cell_type": "code",
      "execution_count": 56,
      "metadata": {},
      "outputs": [],
      "source": [
        "backtests = {\n",
        "    1: ('2004-04-17', '2004-06-05'),\n",
        "    2: ('2004-04-24', '2004-06-12'),\n",
        "    3: ('2004-05-01', '2004-06-19')\n",
        "}"
      ]
    },
    {
      "cell_type": "code",
      "execution_count": 57,
      "metadata": {
        "id": "bJzyU-dP4N0l"
      },
      "outputs": [
        {
          "ename": "KeyError",
          "evalue": "\"['target'] not found in axis\"",
          "output_type": "error",
          "traceback": [
            "\u001b[1;31m---------------------------------------------------------------------------\u001b[0m",
            "\u001b[1;31mKeyError\u001b[0m                                  Traceback (most recent call last)",
            "\u001b[1;32m~\\AppData\\Local\\Temp\\ipykernel_4380\\3885195880.py\u001b[0m in \u001b[0;36m<module>\u001b[1;34m\u001b[0m\n\u001b[0;32m      7\u001b[0m     \u001b[0m_test\u001b[0m \u001b[1;33m=\u001b[0m \u001b[0mtrain\u001b[0m\u001b[1;33m.\u001b[0m\u001b[0mreset_index\u001b[0m\u001b[1;33m(\u001b[0m\u001b[1;33m)\u001b[0m\u001b[1;33m[\u001b[0m\u001b[1;33m(\u001b[0m\u001b[0mtrain\u001b[0m\u001b[1;33m.\u001b[0m\u001b[0mreset_index\u001b[0m\u001b[1;33m(\u001b[0m\u001b[1;33m)\u001b[0m\u001b[1;33m[\u001b[0m\u001b[1;34m'date'\u001b[0m\u001b[1;33m]\u001b[0m \u001b[1;33m>=\u001b[0m \u001b[0mbacktests\u001b[0m\u001b[1;33m[\u001b[0m\u001b[0mperiod\u001b[0m\u001b[1;33m]\u001b[0m\u001b[1;33m[\u001b[0m\u001b[1;36m0\u001b[0m\u001b[1;33m]\u001b[0m\u001b[1;33m)\u001b[0m \u001b[1;33m&\u001b[0m \u001b[1;33m(\u001b[0m\u001b[0mtrain\u001b[0m\u001b[1;33m.\u001b[0m\u001b[0mreset_index\u001b[0m\u001b[1;33m(\u001b[0m\u001b[1;33m)\u001b[0m\u001b[1;33m[\u001b[0m\u001b[1;34m'date'\u001b[0m\u001b[1;33m]\u001b[0m \u001b[1;33m<=\u001b[0m \u001b[0mbacktests\u001b[0m\u001b[1;33m[\u001b[0m\u001b[0mperiod\u001b[0m\u001b[1;33m]\u001b[0m\u001b[1;33m[\u001b[0m\u001b[1;36m1\u001b[0m\u001b[1;33m]\u001b[0m\u001b[1;33m)\u001b[0m\u001b[1;33m]\u001b[0m\u001b[1;33m\u001b[0m\u001b[1;33m\u001b[0m\u001b[0m\n\u001b[0;32m      8\u001b[0m \u001b[1;33m\u001b[0m\u001b[0m\n\u001b[1;32m----> 9\u001b[1;33m     \u001b[0mXtrain\u001b[0m\u001b[1;33m,\u001b[0m \u001b[0mytrain\u001b[0m \u001b[1;33m=\u001b[0m \u001b[0m_train\u001b[0m\u001b[1;33m.\u001b[0m\u001b[0mset_index\u001b[0m\u001b[1;33m(\u001b[0m\u001b[1;33m[\u001b[0m\u001b[1;34m'date'\u001b[0m\u001b[1;33m]\u001b[0m\u001b[1;33m)\u001b[0m\u001b[1;33m.\u001b[0m\u001b[0mdrop\u001b[0m\u001b[1;33m(\u001b[0m\u001b[0mcolumns\u001b[0m\u001b[1;33m=\u001b[0m\u001b[1;33m[\u001b[0m\u001b[1;34m'target'\u001b[0m\u001b[1;33m]\u001b[0m\u001b[1;33m)\u001b[0m\u001b[1;33m,\u001b[0m \u001b[0m_train\u001b[0m\u001b[1;33m.\u001b[0m\u001b[0mtarget\u001b[0m\u001b[1;33m\u001b[0m\u001b[1;33m\u001b[0m\u001b[0m\n\u001b[0m\u001b[0;32m     10\u001b[0m     \u001b[0mXtest\u001b[0m\u001b[1;33m,\u001b[0m \u001b[0mytest\u001b[0m \u001b[1;33m=\u001b[0m \u001b[0m_test\u001b[0m\u001b[1;33m.\u001b[0m\u001b[0mset_index\u001b[0m\u001b[1;33m(\u001b[0m\u001b[1;33m[\u001b[0m\u001b[1;34m'date'\u001b[0m\u001b[1;33m]\u001b[0m\u001b[1;33m)\u001b[0m\u001b[1;33m.\u001b[0m\u001b[0mdrop\u001b[0m\u001b[1;33m(\u001b[0m\u001b[0mcolumns\u001b[0m\u001b[1;33m=\u001b[0m\u001b[1;33m[\u001b[0m\u001b[1;34m'target'\u001b[0m\u001b[1;33m]\u001b[0m\u001b[1;33m)\u001b[0m\u001b[1;33m,\u001b[0m \u001b[0m_test\u001b[0m\u001b[1;33m.\u001b[0m\u001b[0mtarget\u001b[0m\u001b[1;33m\u001b[0m\u001b[1;33m\u001b[0m\u001b[0m\n\u001b[0;32m     11\u001b[0m \u001b[1;33m\u001b[0m\u001b[0m\n",
            "\u001b[1;32mc:\\Users\\LENOVO\\Anaconda3\\lib\\site-packages\\pandas\\util\\_decorators.py\u001b[0m in \u001b[0;36mwrapper\u001b[1;34m(*args, **kwargs)\u001b[0m\n\u001b[0;32m    309\u001b[0m                     \u001b[0mstacklevel\u001b[0m\u001b[1;33m=\u001b[0m\u001b[0mstacklevel\u001b[0m\u001b[1;33m,\u001b[0m\u001b[1;33m\u001b[0m\u001b[1;33m\u001b[0m\u001b[0m\n\u001b[0;32m    310\u001b[0m                 )\n\u001b[1;32m--> 311\u001b[1;33m             \u001b[1;32mreturn\u001b[0m \u001b[0mfunc\u001b[0m\u001b[1;33m(\u001b[0m\u001b[1;33m*\u001b[0m\u001b[0margs\u001b[0m\u001b[1;33m,\u001b[0m \u001b[1;33m**\u001b[0m\u001b[0mkwargs\u001b[0m\u001b[1;33m)\u001b[0m\u001b[1;33m\u001b[0m\u001b[1;33m\u001b[0m\u001b[0m\n\u001b[0m\u001b[0;32m    312\u001b[0m \u001b[1;33m\u001b[0m\u001b[0m\n\u001b[0;32m    313\u001b[0m         \u001b[1;32mreturn\u001b[0m \u001b[0mwrapper\u001b[0m\u001b[1;33m\u001b[0m\u001b[1;33m\u001b[0m\u001b[0m\n",
            "\u001b[1;32mc:\\Users\\LENOVO\\Anaconda3\\lib\\site-packages\\pandas\\core\\frame.py\u001b[0m in \u001b[0;36mdrop\u001b[1;34m(self, labels, axis, index, columns, level, inplace, errors)\u001b[0m\n\u001b[0;32m   4899\u001b[0m                 \u001b[0mweight\u001b[0m  \u001b[1;36m1.0\u001b[0m     \u001b[1;36m0.8\u001b[0m\u001b[1;33m\u001b[0m\u001b[1;33m\u001b[0m\u001b[0m\n\u001b[0;32m   4900\u001b[0m         \"\"\"\n\u001b[1;32m-> 4901\u001b[1;33m         return super().drop(\n\u001b[0m\u001b[0;32m   4902\u001b[0m             \u001b[0mlabels\u001b[0m\u001b[1;33m=\u001b[0m\u001b[0mlabels\u001b[0m\u001b[1;33m,\u001b[0m\u001b[1;33m\u001b[0m\u001b[1;33m\u001b[0m\u001b[0m\n\u001b[0;32m   4903\u001b[0m             \u001b[0maxis\u001b[0m\u001b[1;33m=\u001b[0m\u001b[0maxis\u001b[0m\u001b[1;33m,\u001b[0m\u001b[1;33m\u001b[0m\u001b[1;33m\u001b[0m\u001b[0m\n",
            "\u001b[1;32mc:\\Users\\LENOVO\\Anaconda3\\lib\\site-packages\\pandas\\core\\generic.py\u001b[0m in \u001b[0;36mdrop\u001b[1;34m(self, labels, axis, index, columns, level, inplace, errors)\u001b[0m\n\u001b[0;32m   4145\u001b[0m         \u001b[1;32mfor\u001b[0m \u001b[0maxis\u001b[0m\u001b[1;33m,\u001b[0m \u001b[0mlabels\u001b[0m \u001b[1;32min\u001b[0m \u001b[0maxes\u001b[0m\u001b[1;33m.\u001b[0m\u001b[0mitems\u001b[0m\u001b[1;33m(\u001b[0m\u001b[1;33m)\u001b[0m\u001b[1;33m:\u001b[0m\u001b[1;33m\u001b[0m\u001b[1;33m\u001b[0m\u001b[0m\n\u001b[0;32m   4146\u001b[0m             \u001b[1;32mif\u001b[0m \u001b[0mlabels\u001b[0m \u001b[1;32mis\u001b[0m \u001b[1;32mnot\u001b[0m \u001b[1;32mNone\u001b[0m\u001b[1;33m:\u001b[0m\u001b[1;33m\u001b[0m\u001b[1;33m\u001b[0m\u001b[0m\n\u001b[1;32m-> 4147\u001b[1;33m                 \u001b[0mobj\u001b[0m \u001b[1;33m=\u001b[0m \u001b[0mobj\u001b[0m\u001b[1;33m.\u001b[0m\u001b[0m_drop_axis\u001b[0m\u001b[1;33m(\u001b[0m\u001b[0mlabels\u001b[0m\u001b[1;33m,\u001b[0m \u001b[0maxis\u001b[0m\u001b[1;33m,\u001b[0m \u001b[0mlevel\u001b[0m\u001b[1;33m=\u001b[0m\u001b[0mlevel\u001b[0m\u001b[1;33m,\u001b[0m \u001b[0merrors\u001b[0m\u001b[1;33m=\u001b[0m\u001b[0merrors\u001b[0m\u001b[1;33m)\u001b[0m\u001b[1;33m\u001b[0m\u001b[1;33m\u001b[0m\u001b[0m\n\u001b[0m\u001b[0;32m   4148\u001b[0m \u001b[1;33m\u001b[0m\u001b[0m\n\u001b[0;32m   4149\u001b[0m         \u001b[1;32mif\u001b[0m \u001b[0minplace\u001b[0m\u001b[1;33m:\u001b[0m\u001b[1;33m\u001b[0m\u001b[1;33m\u001b[0m\u001b[0m\n",
            "\u001b[1;32mc:\\Users\\LENOVO\\Anaconda3\\lib\\site-packages\\pandas\\core\\generic.py\u001b[0m in \u001b[0;36m_drop_axis\u001b[1;34m(self, labels, axis, level, errors)\u001b[0m\n\u001b[0;32m   4180\u001b[0m                 \u001b[0mnew_axis\u001b[0m \u001b[1;33m=\u001b[0m \u001b[0maxis\u001b[0m\u001b[1;33m.\u001b[0m\u001b[0mdrop\u001b[0m\u001b[1;33m(\u001b[0m\u001b[0mlabels\u001b[0m\u001b[1;33m,\u001b[0m \u001b[0mlevel\u001b[0m\u001b[1;33m=\u001b[0m\u001b[0mlevel\u001b[0m\u001b[1;33m,\u001b[0m \u001b[0merrors\u001b[0m\u001b[1;33m=\u001b[0m\u001b[0merrors\u001b[0m\u001b[1;33m)\u001b[0m\u001b[1;33m\u001b[0m\u001b[1;33m\u001b[0m\u001b[0m\n\u001b[0;32m   4181\u001b[0m             \u001b[1;32melse\u001b[0m\u001b[1;33m:\u001b[0m\u001b[1;33m\u001b[0m\u001b[1;33m\u001b[0m\u001b[0m\n\u001b[1;32m-> 4182\u001b[1;33m                 \u001b[0mnew_axis\u001b[0m \u001b[1;33m=\u001b[0m \u001b[0maxis\u001b[0m\u001b[1;33m.\u001b[0m\u001b[0mdrop\u001b[0m\u001b[1;33m(\u001b[0m\u001b[0mlabels\u001b[0m\u001b[1;33m,\u001b[0m \u001b[0merrors\u001b[0m\u001b[1;33m=\u001b[0m\u001b[0merrors\u001b[0m\u001b[1;33m)\u001b[0m\u001b[1;33m\u001b[0m\u001b[1;33m\u001b[0m\u001b[0m\n\u001b[0m\u001b[0;32m   4183\u001b[0m             \u001b[0mresult\u001b[0m \u001b[1;33m=\u001b[0m \u001b[0mself\u001b[0m\u001b[1;33m.\u001b[0m\u001b[0mreindex\u001b[0m\u001b[1;33m(\u001b[0m\u001b[1;33m**\u001b[0m\u001b[1;33m{\u001b[0m\u001b[0maxis_name\u001b[0m\u001b[1;33m:\u001b[0m \u001b[0mnew_axis\u001b[0m\u001b[1;33m}\u001b[0m\u001b[1;33m)\u001b[0m\u001b[1;33m\u001b[0m\u001b[1;33m\u001b[0m\u001b[0m\n\u001b[0;32m   4184\u001b[0m \u001b[1;33m\u001b[0m\u001b[0m\n",
            "\u001b[1;32mc:\\Users\\LENOVO\\Anaconda3\\lib\\site-packages\\pandas\\core\\indexes\\base.py\u001b[0m in \u001b[0;36mdrop\u001b[1;34m(self, labels, errors)\u001b[0m\n\u001b[0;32m   6016\u001b[0m         \u001b[1;32mif\u001b[0m \u001b[0mmask\u001b[0m\u001b[1;33m.\u001b[0m\u001b[0many\u001b[0m\u001b[1;33m(\u001b[0m\u001b[1;33m)\u001b[0m\u001b[1;33m:\u001b[0m\u001b[1;33m\u001b[0m\u001b[1;33m\u001b[0m\u001b[0m\n\u001b[0;32m   6017\u001b[0m             \u001b[1;32mif\u001b[0m \u001b[0merrors\u001b[0m \u001b[1;33m!=\u001b[0m \u001b[1;34m\"ignore\"\u001b[0m\u001b[1;33m:\u001b[0m\u001b[1;33m\u001b[0m\u001b[1;33m\u001b[0m\u001b[0m\n\u001b[1;32m-> 6018\u001b[1;33m                 \u001b[1;32mraise\u001b[0m \u001b[0mKeyError\u001b[0m\u001b[1;33m(\u001b[0m\u001b[1;34mf\"{labels[mask]} not found in axis\"\u001b[0m\u001b[1;33m)\u001b[0m\u001b[1;33m\u001b[0m\u001b[1;33m\u001b[0m\u001b[0m\n\u001b[0m\u001b[0;32m   6019\u001b[0m             \u001b[0mindexer\u001b[0m \u001b[1;33m=\u001b[0m \u001b[0mindexer\u001b[0m\u001b[1;33m[\u001b[0m\u001b[1;33m~\u001b[0m\u001b[0mmask\u001b[0m\u001b[1;33m]\u001b[0m\u001b[1;33m\u001b[0m\u001b[1;33m\u001b[0m\u001b[0m\n\u001b[0;32m   6020\u001b[0m         \u001b[1;32mreturn\u001b[0m \u001b[0mself\u001b[0m\u001b[1;33m.\u001b[0m\u001b[0mdelete\u001b[0m\u001b[1;33m(\u001b[0m\u001b[0mindexer\u001b[0m\u001b[1;33m)\u001b[0m\u001b[1;33m\u001b[0m\u001b[1;33m\u001b[0m\u001b[0m\n",
            "\u001b[1;31mKeyError\u001b[0m: \"['target'] not found in axis\""
          ]
        }
      ],
      "source": [
        "# Backtests with KNN\n",
        "scores = {}\n",
        "\n",
        "for idx, period in enumerate(backtests):\n",
        "\n",
        "    _train = train.reset_index()[train.reset_index()['date'] < backtests[period][0]]\n",
        "    _test = train.reset_index()[(train.reset_index()['date'] >= backtests[period][0]) & (train.reset_index()['date'] <= backtests[period][1])]\n",
        "\n",
        "    Xtrain, ytrain = _train.set_index(['date']).drop(columns=['target']), _train.target\n",
        "    Xtest, ytest = _test.set_index(['date']).drop(columns=['target']), _test.target\n",
        "\n",
        "    knn_model = KNeighborsRegressor(n_neighbors=1).fit(Xtrain, ytrain)\n",
        "\n",
        "    ypred = knn_model.predict(Xtest)\n",
        "\n",
        "    scores[period] = np.sqrt(mean_squared_error(ytest, ypred))\n",
        "\n",
        "print(scores)"
      ]
    },
    {
      "cell_type": "markdown",
      "metadata": {
        "id": "CL5LyUScBhVT"
      },
      "source": [
        "# Hyperparameter Tuning"
      ]
    },
    {
      "cell_type": "markdown",
      "metadata": {
        "id": "lfuyZwMQ4N0p"
      },
      "source": [
        "### predicting sales in our test"
      ]
    },
    {
      "cell_type": "code",
      "execution_count": null,
      "metadata": {
        "id": "VdiY19CV4N0q"
      },
      "outputs": [],
      "source": [
        "test_pred = neigh.predict(test)\n",
        "test_pred"
      ]
    },
    {
      "cell_type": "code",
      "execution_count": null,
      "metadata": {
        "id": "LwULY8y7kX11"
      },
      "outputs": [],
      "source": [
        "weekly_sum1['ETA'] = test_pred\n",
        "sub = weekly_sum1[['ID', 'ETA']]\n",
        "sub"
      ]
    },
    {
      "cell_type": "code",
      "execution_count": null,
      "metadata": {
        "id": "_9M_q1aq4N0r"
      },
      "outputs": [],
      "source": [
        "# Save sample submission\n",
        "# sub.to_csv('submission.csv')"
      ]
    },
    {
      "cell_type": "code",
      "execution_count": null,
      "metadata": {
        "id": "kM4aITtn4N0e"
      },
      "outputs": [],
      "source": [
        "# import pickle\n",
        "\n",
        "# with open('encoder.pkl', 'wb') as f:\n",
        "#     pickle.dump(encoder, f)\n",
        "\n",
        "# with open('model.pkl', 'wb') as f:\n",
        "#     pickle.dump(neigh, f)"
      ]
    },
    {
      "cell_type": "code",
      "execution_count": null,
      "metadata": {
        "id": "7JtHj2gv4N0s"
      },
      "outputs": [],
      "source": []
    }
  ],
  "metadata": {
    "accelerator": "GPU",
    "colab": {
      "gpuType": "T4",
      "include_colab_link": true,
      "provenance": []
    },
    "kernelspec": {
      "display_name": "Python 3",
      "name": "python3"
    },
    "language_info": {
      "codemirror_mode": {
        "name": "ipython",
        "version": 3
      },
      "file_extension": ".py",
      "mimetype": "text/x-python",
      "name": "python",
      "nbconvert_exporter": "python",
      "pygments_lexer": "ipython3",
      "version": "3.9.13"
    },
    "vscode": {
      "interpreter": {
        "hash": "7679c2132d3f6ce38c9df14d554b39c06862b36a4e6689c81f9ae15bd0911d7d"
      }
    }
  },
  "nbformat": 4,
  "nbformat_minor": 0
}
